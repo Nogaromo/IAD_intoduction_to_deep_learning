{
 "cells": [
  {
   "cell_type": "markdown",
   "metadata": {
    "id": "Q_upCOEI3Upu"
   },
   "source": [
    "# Основы глубинного обучения, майнор ИАД\n",
    "\n",
    "## Домашнее задание 1. Введение в PyTorch. Полносвязные нейронные сети.\n",
    "\n",
    "### Общая информация\n",
    "\n",
    "Дата выдачи: 20.09.2022\n",
    "\n",
    "Мягкий дедлайн: 23:59MSK 04.10.2022\n",
    "\n",
    "Жесткий дедлайн: 23:59MSK 10.10.2022\n",
    "\n",
    "### Оценивание и штрафы\n",
    "Максимально допустимая оценка за работу — 10 баллов. За каждый день просрочки снимается 1 балл. Сдавать задание после жёсткого дедлайна сдачи нельзя.\n",
    "\n",
    "Задание выполняется самостоятельно. «Похожие» решения считаются плагиатом и все задействованные студенты (в том числе те, у кого списали) не могут получить за него больше 0 баллов. Если вы нашли решение какого-то из заданий (или его часть) в открытом источнике, необходимо указать ссылку на этот источник в отдельном блоке в конце вашей работы (скорее всего вы будете не единственным, кто это нашел, поэтому чтобы исключить подозрение в плагиате, необходима ссылка на источник).\n",
    "\n",
    "Неэффективная реализация кода может негативно отразиться на оценке.\n",
    "Также оценка может быть снижена за плохо читаемый код и плохо оформленные графики. Все ответы должны сопровождаться кодом или комментариями о том, как они были получены.\n",
    "\n",
    "### О задании\n",
    "\n",
    "В этом задании вам предстоит предсказывать год выпуска песни (**задача регрессии**) по некоторым звуковым признакам: [данные](https://archive.ics.uci.edu/ml/datasets/yearpredictionmsd). В ячейках ниже находится код для загрузки данных. Обратите внимание, что обучающая и тестовая выборки располагаются в одном файле, поэтому НЕ меняйте ячейку, в которой производится деление данных."
   ]
  },
  {
   "cell_type": "code",
   "execution_count": 1,
   "metadata": {
    "ExecuteTime": {
     "end_time": "2022-09-29T10:03:35.823952Z",
     "start_time": "2022-09-29T10:03:21.744763Z"
    },
    "execution": {
     "iopub.execute_input": "2022-09-28T14:01:37.036103Z",
     "iopub.status.busy": "2022-09-28T14:01:37.035504Z",
     "iopub.status.idle": "2022-09-28T14:01:38.934186Z",
     "shell.execute_reply": "2022-09-28T14:01:38.933044Z",
     "shell.execute_reply.started": "2022-09-28T14:01:37.036022Z"
    },
    "id": "RI_eoe063VaP"
   },
   "outputs": [],
   "source": [
    "import torch\n",
    "from torch import nn\n",
    "import pandas as pd\n",
    "import numpy as np\n",
    "import random"
   ]
  },
  {
   "cell_type": "code",
   "execution_count": 2,
   "metadata": {
    "execution": {
     "iopub.execute_input": "2022-09-28T14:01:39.329431Z",
     "iopub.status.busy": "2022-09-28T14:01:39.328767Z",
     "iopub.status.idle": "2022-09-28T14:01:39.338150Z",
     "shell.execute_reply": "2022-09-28T14:01:39.337034Z",
     "shell.execute_reply.started": "2022-09-28T14:01:39.329378Z"
    },
    "id": "oaMA71HVVcyx"
   },
   "outputs": [],
   "source": [
    "# %conda install wget"
   ]
  },
  {
   "cell_type": "code",
   "execution_count": 3,
   "metadata": {
    "execution": {
     "iopub.execute_input": "2022-09-28T14:01:39.473526Z",
     "iopub.status.busy": "2022-09-28T14:01:39.472990Z",
     "iopub.status.idle": "2022-09-28T14:01:43.479883Z",
     "shell.execute_reply": "2022-09-28T14:01:43.478769Z",
     "shell.execute_reply.started": "2022-09-28T14:01:39.473476Z"
    },
    "id": "7NgSZeU-7vgj",
    "outputId": "caeb018f-8b80-4c94-a33f-fecc8f8e986f"
   },
   "outputs": [
    {
     "name": "stdout",
     "output_type": "stream",
     "text": [
      "--2022-09-28 14:01:40--  https://archive.ics.uci.edu/ml/machine-learning-databases/00203/YearPredictionMSD.txt.zip\n",
      "Resolving archive.ics.uci.edu (archive.ics.uci.edu)... 128.195.10.252\n",
      "Connecting to archive.ics.uci.edu (archive.ics.uci.edu)|128.195.10.252|:443... connected.\n",
      "HTTP request sent, awaiting response... 200 OK\n",
      "Length: 211011981 (201M) [application/x-httpd-php]\n",
      "Saving to: ‘data.txt.zip’\n",
      "\n",
      "data.txt.zip        100%[===================>] 201.24M  82.6MB/s    in 2.4s    \n",
      "\n",
      "2022-09-28 14:01:43 (82.6 MB/s) - ‘data.txt.zip’ saved [211011981/211011981]\n",
      "\n"
     ]
    }
   ],
   "source": [
    "!wget -O data.txt.zip https://archive.ics.uci.edu/ml/machine-learning-databases/00203/YearPredictionMSD.txt.zip"
   ]
  },
  {
   "cell_type": "code",
   "execution_count": 3,
   "metadata": {
    "ExecuteTime": {
     "end_time": "2022-09-29T10:06:51.518373Z",
     "start_time": "2022-09-29T10:06:44.991164Z"
    },
    "execution": {
     "iopub.execute_input": "2022-09-28T14:01:43.482828Z",
     "iopub.status.busy": "2022-09-28T14:01:43.482123Z",
     "iopub.status.idle": "2022-09-28T14:01:56.231484Z",
     "shell.execute_reply": "2022-09-28T14:01:56.230392Z",
     "shell.execute_reply.started": "2022-09-28T14:01:43.482781Z"
    },
    "id": "DSVJZzkJ7zZE",
    "outputId": "cb3ea40f-ea63-4328-cde5-75c7f586456a"
   },
   "outputs": [
    {
     "data": {
      "text/html": [
       "<div>\n",
       "<style scoped>\n",
       "    .dataframe tbody tr th:only-of-type {\n",
       "        vertical-align: middle;\n",
       "    }\n",
       "\n",
       "    .dataframe tbody tr th {\n",
       "        vertical-align: top;\n",
       "    }\n",
       "\n",
       "    .dataframe thead th {\n",
       "        text-align: right;\n",
       "    }\n",
       "</style>\n",
       "<table border=\"1\" class=\"dataframe\">\n",
       "  <thead>\n",
       "    <tr style=\"text-align: right;\">\n",
       "      <th></th>\n",
       "      <th>0</th>\n",
       "      <th>1</th>\n",
       "      <th>2</th>\n",
       "      <th>3</th>\n",
       "      <th>4</th>\n",
       "      <th>5</th>\n",
       "      <th>6</th>\n",
       "      <th>7</th>\n",
       "      <th>8</th>\n",
       "      <th>9</th>\n",
       "      <th>...</th>\n",
       "      <th>81</th>\n",
       "      <th>82</th>\n",
       "      <th>83</th>\n",
       "      <th>84</th>\n",
       "      <th>85</th>\n",
       "      <th>86</th>\n",
       "      <th>87</th>\n",
       "      <th>88</th>\n",
       "      <th>89</th>\n",
       "      <th>90</th>\n",
       "    </tr>\n",
       "  </thead>\n",
       "  <tbody>\n",
       "    <tr>\n",
       "      <th>0</th>\n",
       "      <td>2001</td>\n",
       "      <td>49.94357</td>\n",
       "      <td>21.47114</td>\n",
       "      <td>73.07750</td>\n",
       "      <td>8.74861</td>\n",
       "      <td>-17.40628</td>\n",
       "      <td>-13.09905</td>\n",
       "      <td>-25.01202</td>\n",
       "      <td>-12.23257</td>\n",
       "      <td>7.83089</td>\n",
       "      <td>...</td>\n",
       "      <td>13.01620</td>\n",
       "      <td>-54.40548</td>\n",
       "      <td>58.99367</td>\n",
       "      <td>15.37344</td>\n",
       "      <td>1.11144</td>\n",
       "      <td>-23.08793</td>\n",
       "      <td>68.40795</td>\n",
       "      <td>-1.82223</td>\n",
       "      <td>-27.46348</td>\n",
       "      <td>2.26327</td>\n",
       "    </tr>\n",
       "    <tr>\n",
       "      <th>1</th>\n",
       "      <td>2001</td>\n",
       "      <td>48.73215</td>\n",
       "      <td>18.42930</td>\n",
       "      <td>70.32679</td>\n",
       "      <td>12.94636</td>\n",
       "      <td>-10.32437</td>\n",
       "      <td>-24.83777</td>\n",
       "      <td>8.76630</td>\n",
       "      <td>-0.92019</td>\n",
       "      <td>18.76548</td>\n",
       "      <td>...</td>\n",
       "      <td>5.66812</td>\n",
       "      <td>-19.68073</td>\n",
       "      <td>33.04964</td>\n",
       "      <td>42.87836</td>\n",
       "      <td>-9.90378</td>\n",
       "      <td>-32.22788</td>\n",
       "      <td>70.49388</td>\n",
       "      <td>12.04941</td>\n",
       "      <td>58.43453</td>\n",
       "      <td>26.92061</td>\n",
       "    </tr>\n",
       "    <tr>\n",
       "      <th>2</th>\n",
       "      <td>2001</td>\n",
       "      <td>50.95714</td>\n",
       "      <td>31.85602</td>\n",
       "      <td>55.81851</td>\n",
       "      <td>13.41693</td>\n",
       "      <td>-6.57898</td>\n",
       "      <td>-18.54940</td>\n",
       "      <td>-3.27872</td>\n",
       "      <td>-2.35035</td>\n",
       "      <td>16.07017</td>\n",
       "      <td>...</td>\n",
       "      <td>3.03800</td>\n",
       "      <td>26.05866</td>\n",
       "      <td>-50.92779</td>\n",
       "      <td>10.93792</td>\n",
       "      <td>-0.07568</td>\n",
       "      <td>43.20130</td>\n",
       "      <td>-115.00698</td>\n",
       "      <td>-0.05859</td>\n",
       "      <td>39.67068</td>\n",
       "      <td>-0.66345</td>\n",
       "    </tr>\n",
       "    <tr>\n",
       "      <th>3</th>\n",
       "      <td>2001</td>\n",
       "      <td>48.24750</td>\n",
       "      <td>-1.89837</td>\n",
       "      <td>36.29772</td>\n",
       "      <td>2.58776</td>\n",
       "      <td>0.97170</td>\n",
       "      <td>-26.21683</td>\n",
       "      <td>5.05097</td>\n",
       "      <td>-10.34124</td>\n",
       "      <td>3.55005</td>\n",
       "      <td>...</td>\n",
       "      <td>34.57337</td>\n",
       "      <td>-171.70734</td>\n",
       "      <td>-16.96705</td>\n",
       "      <td>-46.67617</td>\n",
       "      <td>-12.51516</td>\n",
       "      <td>82.58061</td>\n",
       "      <td>-72.08993</td>\n",
       "      <td>9.90558</td>\n",
       "      <td>199.62971</td>\n",
       "      <td>18.85382</td>\n",
       "    </tr>\n",
       "    <tr>\n",
       "      <th>4</th>\n",
       "      <td>2001</td>\n",
       "      <td>50.97020</td>\n",
       "      <td>42.20998</td>\n",
       "      <td>67.09964</td>\n",
       "      <td>8.46791</td>\n",
       "      <td>-15.85279</td>\n",
       "      <td>-16.81409</td>\n",
       "      <td>-12.48207</td>\n",
       "      <td>-9.37636</td>\n",
       "      <td>12.63699</td>\n",
       "      <td>...</td>\n",
       "      <td>9.92661</td>\n",
       "      <td>-55.95724</td>\n",
       "      <td>64.92712</td>\n",
       "      <td>-17.72522</td>\n",
       "      <td>-1.49237</td>\n",
       "      <td>-7.50035</td>\n",
       "      <td>51.76631</td>\n",
       "      <td>7.88713</td>\n",
       "      <td>55.66926</td>\n",
       "      <td>28.74903</td>\n",
       "    </tr>\n",
       "  </tbody>\n",
       "</table>\n",
       "<p>5 rows × 91 columns</p>\n",
       "</div>"
      ],
      "text/plain": [
       "     0         1         2         3         4         5         6         7   \\\n",
       "0  2001  49.94357  21.47114  73.07750   8.74861 -17.40628 -13.09905 -25.01202   \n",
       "1  2001  48.73215  18.42930  70.32679  12.94636 -10.32437 -24.83777   8.76630   \n",
       "2  2001  50.95714  31.85602  55.81851  13.41693  -6.57898 -18.54940  -3.27872   \n",
       "3  2001  48.24750  -1.89837  36.29772   2.58776   0.97170 -26.21683   5.05097   \n",
       "4  2001  50.97020  42.20998  67.09964   8.46791 -15.85279 -16.81409 -12.48207   \n",
       "\n",
       "         8         9   ...        81         82        83        84        85  \\\n",
       "0 -12.23257   7.83089  ...  13.01620  -54.40548  58.99367  15.37344   1.11144   \n",
       "1  -0.92019  18.76548  ...   5.66812  -19.68073  33.04964  42.87836  -9.90378   \n",
       "2  -2.35035  16.07017  ...   3.03800   26.05866 -50.92779  10.93792  -0.07568   \n",
       "3 -10.34124   3.55005  ...  34.57337 -171.70734 -16.96705 -46.67617 -12.51516   \n",
       "4  -9.37636  12.63699  ...   9.92661  -55.95724  64.92712 -17.72522  -1.49237   \n",
       "\n",
       "         86         87        88         89        90  \n",
       "0 -23.08793   68.40795  -1.82223  -27.46348   2.26327  \n",
       "1 -32.22788   70.49388  12.04941   58.43453  26.92061  \n",
       "2  43.20130 -115.00698  -0.05859   39.67068  -0.66345  \n",
       "3  82.58061  -72.08993   9.90558  199.62971  18.85382  \n",
       "4  -7.50035   51.76631   7.88713   55.66926  28.74903  \n",
       "\n",
       "[5 rows x 91 columns]"
      ]
     },
     "execution_count": 3,
     "metadata": {},
     "output_type": "execute_result"
    }
   ],
   "source": [
    "df = pd.read_csv('YearPredictionMSD.txt.zip', header=None)\n",
    "df.head()"
   ]
  },
  {
   "cell_type": "code",
   "execution_count": 4,
   "metadata": {
    "ExecuteTime": {
     "end_time": "2022-09-29T10:07:30.725960Z",
     "start_time": "2022-09-29T10:07:30.669961Z"
    },
    "execution": {
     "iopub.execute_input": "2022-09-28T14:02:07.300390Z",
     "iopub.status.busy": "2022-09-28T14:02:07.299694Z",
     "iopub.status.idle": "2022-09-28T14:02:07.426174Z",
     "shell.execute_reply": "2022-09-28T14:02:07.425056Z",
     "shell.execute_reply.started": "2022-09-28T14:02:07.300350Z"
    },
    "id": "n4wnRJT1778j"
   },
   "outputs": [],
   "source": [
    "X = df.iloc[:, 1:].values\n",
    "y = df.iloc[:, 0].values\n",
    "\n",
    "train_size = 463715\n",
    "X_train = X[:train_size, :]\n",
    "y_train = y[:train_size]\n",
    "X_test = X[train_size:, :]\n",
    "y_test = y[train_size:]"
   ]
  },
  {
   "cell_type": "markdown",
   "metadata": {
    "id": "_386JE_o5gOd"
   },
   "source": [
    "## Задание 0. (0 баллов, но при невыполнении максимум за все задание &mdash; 0 баллов)\n",
    "\n",
    "Мы будем использовать RMSE как метрику качества. Для самого первого бейзлайна обучите `Ridge` регрессию из `sklearn`. Кроме того, посчитайте качество при наилучшем константном прогнозе."
   ]
  },
  {
   "cell_type": "code",
   "execution_count": 7,
   "metadata": {
    "ExecuteTime": {
     "end_time": "2022-09-29T10:08:28.137300Z",
     "start_time": "2022-09-29T10:08:27.198758Z"
    },
    "execution": {
     "iopub.execute_input": "2022-09-28T14:02:07.429364Z",
     "iopub.status.busy": "2022-09-28T14:02:07.428596Z",
     "iopub.status.idle": "2022-09-28T14:02:09.110172Z",
     "shell.execute_reply": "2022-09-28T14:02:09.108622Z",
     "shell.execute_reply.started": "2022-09-28T14:02:07.429320Z"
    },
    "id": "otwuisa56MLr",
    "outputId": "4264c958-bc79-4931-e0c4-3ecc0ad9ecf5"
   },
   "outputs": [
    {
     "data": {
      "text/plain": [
       "Ridge()"
      ]
     },
     "execution_count": 7,
     "metadata": {},
     "output_type": "execute_result"
    }
   ],
   "source": [
    "from sklearn.linear_model import Ridge\n",
    "import numpy as np\n",
    "from sklearn.preprocessing import StandardScaler\n",
    "scaler_1 = StandardScaler().fit(X_train)\n",
    "X_train_scaled = scaler_1.transform(X_train)\n",
    "X_test_scaled = scaler_1.transform(X_test)\n",
    "clf = Ridge(alpha=1.0)\n",
    "clf.fit(X_train_scaled, y_train)"
   ]
  },
  {
   "cell_type": "code",
   "execution_count": 8,
   "metadata": {
    "ExecuteTime": {
     "end_time": "2022-09-29T10:08:28.216823Z",
     "start_time": "2022-09-29T10:08:28.201819Z"
    },
    "execution": {
     "iopub.execute_input": "2022-09-28T14:02:09.119830Z",
     "iopub.status.busy": "2022-09-28T14:02:09.116864Z",
     "iopub.status.idle": "2022-09-28T14:02:09.151758Z",
     "shell.execute_reply": "2022-09-28T14:02:09.150436Z",
     "shell.execute_reply.started": "2022-09-28T14:02:09.119779Z"
    },
    "id": "M61SbkXmWqzG",
    "outputId": "9d033d58-fdc0-45e7-a99e-847e34ca2d6e"
   },
   "outputs": [
    {
     "data": {
      "text/plain": [
       "9.510160820470432"
      ]
     },
     "execution_count": 8,
     "metadata": {},
     "output_type": "execute_result"
    }
   ],
   "source": [
    "from sklearn.metrics import mean_squared_error\n",
    "pred_ridge = clf.predict(X_test_scaled)\n",
    "mean_squared_error(y_test, pred_ridge, squared=False)"
   ]
  },
  {
   "cell_type": "code",
   "execution_count": 11,
   "metadata": {
    "ExecuteTime": {
     "end_time": "2022-09-29T10:12:15.021985Z",
     "start_time": "2022-09-29T10:12:15.010983Z"
    }
   },
   "outputs": [
    {
     "data": {
      "text/plain": [
       "10.85246390513634"
      ]
     },
     "execution_count": 11,
     "metadata": {},
     "output_type": "execute_result"
    }
   ],
   "source": [
    "const_pred = np.mean(y_train)\n",
    "a = y_test - const_pred\n",
    "zeros = np.zeros(a.shape[0])\n",
    "mean_squared_error(a, zeros, squared=False)"
   ]
  },
  {
   "cell_type": "markdown",
   "metadata": {
    "id": "_6ilBKYt6OdD"
   },
   "source": [
    "## Задание 1. (максимум 10 баллов)\n",
    "\n",
    "Реализуйте обучение и тестирование нейронной сети для предоставленного вам набора данных. Соотношение между полученным значением метрики на тестовой выборке и баллами за задание следующее:\n",
    "\n",
    "- $\\text{RMSE} \\le 9.00 $ &mdash; 4 балла\n",
    "- $\\text{RMSE} \\le 8.90 $ &mdash; 6 баллов\n",
    "- $\\text{RMSE} \\le 8.80 $ &mdash; 8 баллов\n",
    "- $\\text{RMSE} \\le 8.75 $ &mdash; 10 баллов\n",
    "\n",
    "Есть несколько правил, которых вам нужно придерживаться:\n",
    "\n",
    "- Весь пайплайн обучения должен быть написан на PyTorch. При этом вы можете пользоваться другими библиотеками (`numpy`, `sklearn` и пр.), но только для обработки данных. То есть как угодно трансформировать данные и считать метрики с помощью этих библиотек можно, а импортировать модели из `sklearn` и выбивать с их помощью требуемое качество &mdash; нельзя. Также нельзя пользоваться библиотеками, для которых сам PyTorch является зависимостью.\n",
    "\n",
    "- Мы никак не ограничиваем ваш выбор архитектуры модели, но скорее всего вам будет достаточно полносвязной нейронной сети.\n",
    "\n",
    "- Для обучения запрещается использовать какие-либо иные данные, кроме обучающей выборки.\n",
    "\n",
    "- Ансамблирование моделей запрещено.\n",
    "\n",
    "### Полезные советы:\n",
    "\n",
    "- Очень вряд ли, что у вас с первого раза получится выбить качество на 10 баллов, поэтому пробуйте разные архитектуры, оптимизаторы и значения гиперпараметров. В идеале при запуске каждого нового эксперимента вы должны менять что-то одно, чтобы точно знать, как этот фактор влияет на качество.\n",
    "\n",
    "- Не забудьте, что для улучшения качества модели вам поможет **нормировка таргета**.\n",
    "\n",
    "- Тот факт, что мы занимаемся глубинным обучением, не означает, что стоит забывать про приемы, использующиеся в классическом машинном обучении. Так что обязательно проводите исследовательский анализ данных, отрисовывайте нужные графики и не забывайте про масштабирование и подбор гиперпараметров.\n",
    "\n",
    "- Вы наверняка столкнетесь с тем, что ваша нейронная сеть будет сильно переобучаться. Для нейросетей существуют специальные методы регуляризации, например, dropout ([статья](https://jmlr.org/papers/volume15/srivastava14a/srivastava14a.pdf)) и weight decay ([блогпост](https://towardsdatascience.com/weight-decay-l2-regularization-90a9e17713cd)). Они, разумеется, реализованы в PyTorch. Попробуйте поэкспериментировать с ними.\n",
    "\n",
    "- Если вы чего-то не знаете, не гнушайтесь гуглить. В интернете очень много полезной информации, туториалов и советов по глубинному обучению в целом и по PyTorch в частности. Но не забывайте, что за скатанный код без ссылки на источник придется ответить по всей строгости!\n",
    "\n",
    "- Если вы сразу реализуете обучение на GPU, то у вас будет больше времени на эксперименты, так как любые вычисления будут работать быстрее. Google Colab предоставляет несколько GPU-часов (обычно около 8-10) в сутки бесплатно.\n",
    "\n",
    "- Чтобы отладить код, можете обучаться на небольшой части данных или даже на одном батче. Если лосс на обучающей выборке не падает, то что-то точно идет не так!\n",
    "\n",
    "- Пользуйтесь утилитами, которые вам предоставляет PyTorch (например, Dataset и Dataloader). Их специально разработали для упрощения разработки пайплайна обучения.\n",
    "\n",
    "- Скорее всего вы захотите отслеживать прогресс обучения. Для создания прогресс-баров есть удобная библиотека `tqdm`.\n",
    "\n",
    "- Быть может, вы захотите, чтобы графики рисовались прямо во время обучения. Можете воспользоваться функцией [clear_output](http://ipython.org/ipython-doc/dev/api/generated/IPython.display.html#IPython.display.clear_output), чтобы удалять старый график и рисовать новый на его месте.\n",
    "\n",
    "**ОБЯЗАТЕЛЬНО** рисуйте графики зависимости лосса/метрики на обучающей и тестовой выборках в зависимости от времени обучения. Если обучение занимает относительно небольшое число эпох, то лучше рисовать зависимость от номера шага обучения, если же эпох больше, то рисуйте зависимость по эпохам. Если проверяющий не увидит такого графика для вашей лучшей модели, то он в праве снизить баллы за задание.\n",
    "\n",
    "**ВАЖНО!** Ваше решение должно быть воспроизводимым. Если это не так, то проверяющий имеет право снизить баллы за задание. Чтобы зафиксировать random seed, воспользуйтесь функцией из ячейки ниже.\n",
    "\n"
   ]
  },
  {
   "cell_type": "code",
   "execution_count": 13,
   "metadata": {
    "execution": {
     "iopub.execute_input": "2022-09-28T14:02:09.159323Z",
     "iopub.status.busy": "2022-09-28T14:02:09.157664Z",
     "iopub.status.idle": "2022-09-28T14:02:09.176018Z",
     "shell.execute_reply": "2022-09-28T14:02:09.174612Z",
     "shell.execute_reply.started": "2022-09-28T14:02:09.159270Z"
    },
    "id": "VaMButDmEKKw"
   },
   "outputs": [],
   "source": [
    "def set_random_seed(seed):\n",
    "    torch.backends.cudnn.deterministic = True\n",
    "    torch.manual_seed(seed)\n",
    "    torch.cuda.manual_seed(seed)\n",
    "    np.random.seed(seed)\n",
    "    random.seed(seed)"
   ]
  },
  {
   "cell_type": "code",
   "execution_count": 14,
   "metadata": {
    "execution": {
     "iopub.execute_input": "2022-09-28T14:02:09.181964Z",
     "iopub.status.busy": "2022-09-28T14:02:09.180445Z",
     "iopub.status.idle": "2022-09-28T14:02:09.201773Z",
     "shell.execute_reply": "2022-09-28T14:02:09.200430Z",
     "shell.execute_reply.started": "2022-09-28T14:02:09.181910Z"
    },
    "id": "vEIIGQ26vw_2"
   },
   "outputs": [],
   "source": [
    "set_random_seed(42)"
   ]
  },
  {
   "cell_type": "markdown",
   "metadata": {
    "id": "TZW0gMe3vT8u"
   },
   "source": [
    "Вы можете придерживаться любой адекватной струкуры кода, но мы советуем воспользоваться следующими сигнатурами функций. Лучше всего, если вы проверите ваши предсказания ассертом: так вы убережете себя от разных косяков, например, что вектор предсказаний состоит из всего одного числа. В любом случае, внимательно следите за тем, для каких тензоров вы считаете метрику RMSE. При случайном или намеренном введении в заблуждение проверяющие очень сильно разозлятся."
   ]
  },
  {
   "cell_type": "code",
   "execution_count": 15,
   "metadata": {
    "execution": {
     "iopub.execute_input": "2022-09-28T14:02:09.213817Z",
     "iopub.status.busy": "2022-09-28T14:02:09.204563Z",
     "iopub.status.idle": "2022-09-28T14:02:09.296176Z",
     "shell.execute_reply": "2022-09-28T14:02:09.294806Z",
     "shell.execute_reply.started": "2022-09-28T14:02:09.213754Z"
    },
    "id": "kF8QTBIQY0R2"
   },
   "outputs": [],
   "source": [
    "DEVICE =  \"cuda\" if torch.cuda.is_available() else \"cpu\""
   ]
  },
  {
   "cell_type": "code",
   "execution_count": 16,
   "metadata": {
    "execution": {
     "iopub.execute_input": "2022-09-28T14:02:09.298418Z",
     "iopub.status.busy": "2022-09-28T14:02:09.297528Z",
     "iopub.status.idle": "2022-09-28T14:02:09.306432Z",
     "shell.execute_reply": "2022-09-28T14:02:09.305093Z",
     "shell.execute_reply.started": "2022-09-28T14:02:09.298376Z"
    },
    "id": "6GijksRrbAVC"
   },
   "outputs": [],
   "source": [
    "from torch.utils.data import Dataset, DataLoader\n",
    "from torch.utils.data import TensorDataset, DataLoader\n",
    "from tqdm import tqdm\n",
    "from sklearn.preprocessing import StandardScaler"
   ]
  },
  {
   "cell_type": "code",
   "execution_count": 17,
   "metadata": {
    "execution": {
     "iopub.execute_input": "2022-09-28T14:02:09.307967Z",
     "iopub.status.busy": "2022-09-28T14:02:09.307395Z",
     "iopub.status.idle": "2022-09-28T14:02:09.320071Z",
     "shell.execute_reply": "2022-09-28T14:02:09.318920Z",
     "shell.execute_reply.started": "2022-09-28T14:02:09.307925Z"
    },
    "id": "gdDYbNd7v3fs"
   },
   "outputs": [],
   "source": [
    "class Dataset_class(torch.utils.data.Dataset):\n",
    "\n",
    "  def __init__(self, X, y, scale_data=True):\n",
    "    self.X = X\n",
    "    self.y = y\n",
    "      \n",
    "\n",
    "  def __len__(self):\n",
    "      return len(self.X)\n",
    "\n",
    "  def __getitem__(self, i):\n",
    "      return self.X[i], self.y[i]"
   ]
  },
  {
   "cell_type": "code",
   "execution_count": 34,
   "metadata": {
    "execution": {
     "iopub.execute_input": "2022-09-28T14:35:01.236193Z",
     "iopub.status.busy": "2022-09-28T14:35:01.235176Z",
     "iopub.status.idle": "2022-09-28T14:35:01.243289Z",
     "shell.execute_reply": "2022-09-28T14:35:01.242134Z",
     "shell.execute_reply.started": "2022-09-28T14:35:01.236157Z"
    },
    "id": "_F15BkLhwXBI"
   },
   "outputs": [],
   "source": [
    "class MLP(nn.Module):\n",
    "\n",
    "  def __init__(self):\n",
    "    super().__init__()\n",
    "    self.layers = nn.Sequential(\n",
    "      nn.Linear(90, 300),\n",
    "      nn.ReLU(),\n",
    "      nn.BatchNorm1d(300),\n",
    "      nn.Dropout(0.3),\n",
    "      nn.Linear(300, 156),\n",
    "      nn.ReLU(),\n",
    "      nn.BatchNorm1d(156),\n",
    "      nn.Linear(156, 50),\n",
    "      nn.Linear(50, 1)\n",
    "      )\n",
    "\n",
    "\n",
    "  def forward(self, x):\n",
    "    return self.layers(x)"
   ]
  },
  {
   "cell_type": "code",
   "execution_count": 35,
   "metadata": {
    "execution": {
     "iopub.execute_input": "2022-09-28T14:35:01.450274Z",
     "iopub.status.busy": "2022-09-28T14:35:01.449350Z",
     "iopub.status.idle": "2022-09-28T14:35:02.073627Z",
     "shell.execute_reply": "2022-09-28T14:35:02.072404Z",
     "shell.execute_reply.started": "2022-09-28T14:35:01.450229Z"
    },
    "id": "lTxXm9EtSm_M"
   },
   "outputs": [],
   "source": [
    "scaler = StandardScaler()\n",
    "X_train_t = torch.from_numpy(scaler.fit_transform(X_train)).to(DEVICE)\n",
    "X_test_t = torch.from_numpy(scaler.transform(X_test)).to(DEVICE)\n",
    "y_train_t = torch.from_numpy(y_train).to(DEVICE)\n",
    "y_test_t = torch.from_numpy(y_test).to(DEVICE)"
   ]
  },
  {
   "cell_type": "code",
   "execution_count": 36,
   "metadata": {
    "execution": {
     "iopub.execute_input": "2022-09-28T14:35:02.076227Z",
     "iopub.status.busy": "2022-09-28T14:35:02.075827Z",
     "iopub.status.idle": "2022-09-28T14:35:02.083763Z",
     "shell.execute_reply": "2022-09-28T14:35:02.082536Z",
     "shell.execute_reply.started": "2022-09-28T14:35:02.076189Z"
    },
    "id": "lyrCIXR-wlSK"
   },
   "outputs": [],
   "source": [
    "dataset = Dataset_class(X_train_t, y_train_t)\n",
    "trainloader = torch.utils.data.DataLoader(dataset, batch_size=128, shuffle=True)"
   ]
  },
  {
   "cell_type": "code",
   "execution_count": 41,
   "metadata": {
    "execution": {
     "iopub.execute_input": "2022-09-28T14:55:42.433747Z",
     "iopub.status.busy": "2022-09-28T14:55:42.433363Z",
     "iopub.status.idle": "2022-09-28T14:55:42.446107Z",
     "shell.execute_reply": "2022-09-28T14:55:42.445084Z",
     "shell.execute_reply.started": "2022-09-28T14:55:42.433715Z"
    },
    "id": "f9vSIMJ3wvIk"
   },
   "outputs": [],
   "source": [
    "import IPython\n",
    "import matplotlib.pyplot as plt\n",
    "from torch.optim.lr_scheduler import StepLR, ExponentialLR, MultiStepLR\n",
    "mlp = MLP()\n",
    "mlp.to(DEVICE)\n",
    "loss_function = nn.MSELoss()\n",
    "optimizer = torch.optim.Adam(mlp.parameters(), lr=1e-1, weight_decay=1.0)\n",
    "#scheduler = StepLR(optimizer, step_size=10, gamma=0.1)\n",
    "scheduler = MultiStepLR(optimizer, milestones=[5, 10, 20, 30, 50, 80], gamma=0.1)\n",
    "#scheduler = ExponentialLR(optimizer, gamma=0.5)"
   ]
  },
  {
   "cell_type": "code",
   "execution_count": 42,
   "metadata": {
    "execution": {
     "iopub.execute_input": "2022-09-28T14:55:42.560052Z",
     "iopub.status.busy": "2022-09-28T14:55:42.559446Z",
     "iopub.status.idle": "2022-09-28T15:05:12.157943Z",
     "shell.execute_reply": "2022-09-28T15:05:12.157003Z",
     "shell.execute_reply.started": "2022-09-28T14:55:42.560011Z"
    },
    "id": "_oJGHuWIw5CI",
    "outputId": "7d784b02-c53e-4a4f-ddc3-7481ecc82fa6"
   },
   "outputs": [
    {
     "data": {
      "image/png": "[encoded data removed]",
      "text/plain": [
       "<Figure size 432x288 with 1 Axes>"
      ]
     },
     "metadata": {
      "needs_background": "light"
     },
     "output_type": "display_data"
    },
    {
     "name": "stderr",
     "output_type": "stream",
     "text": [
      "100%|██████████| 50/50 [09:29<00:00, 11.39s/it]"
     ]
    },
    {
     "name": "stdout",
     "output_type": "stream",
     "text": [
      "\n",
      "Loss after epoch 50: train=6.99264669418335, test=8.720909352783462\n",
      "\n",
      "Training process has finished.\n"
     ]
    },
    {
     "name": "stderr",
     "output_type": "stream",
     "text": [
      "\n"
     ]
    }
   ],
   "source": [
    "loss_history = []\n",
    "loss_test = []\n",
    "for epoch in tqdm(range(0, 50)):\n",
    "  IPython.display.clear_output(wait=True)\n",
    "  for i, data in enumerate(trainloader, 0):\n",
    "    \n",
    "    inputs, targets = data\n",
    "    inputs, targets = inputs.float(), targets.float()\n",
    "    targets = targets.reshape((targets.shape[0], 1))\n",
    "    \n",
    "    optimizer.zero_grad()\n",
    "    \n",
    "    outputs = mlp(inputs)\n",
    "\n",
    "    loss = loss_function(outputs, targets)\n",
    "     \n",
    "    loss.backward()\n",
    "\n",
    "    optimizer.step()\n",
    "\n",
    "  loss_history.append(torch.sqrt(loss).cpu().detach().numpy())\n",
    "  mlp.eval()\n",
    "  with torch.no_grad():\n",
    "    pred = mlp(X_test_t.float())\n",
    "  mlp.train()\n",
    "  pred = pred.to('cpu')\n",
    "  rmse_test = mean_squared_error(y_test, pred, squared=False)\n",
    "  loss_test.append(rmse_test)\n",
    "  scheduler.step()\n",
    "  plt.plot(range(epoch+1), loss_history)\n",
    "  plt.plot(range(epoch+1), loss_test)\n",
    "  plt.yscale('log')\n",
    "  plt.show()\n",
    "  print(f'\\nLoss after epoch {epoch+1}: train={loss_history[-1]}, test={loss_test[-1]}')\n",
    "\n",
    "print('\\nTraining process has finished.')"
   ]
  },
  {
   "cell_type": "markdown",
   "metadata": {
    "id": "bine9EES6TIn"
   },
   "source": [
    "## Задание 2. (0 баллов, но при невыполнении максимум за все задание &mdash; 0 баллов)\n",
    "\n",
    "Напишите небольшой отчет о том, как вы добились полученного качества: какие средства использовали и какие эксперименты проводили. Подробно расскажите об архитектурах и значениях гиперпараметров, а также какие метрики на тесте они показывали. Чтобы отчет был зачтен, необходимо привести хотя бы 3 эксперимента."
   ]
  },
  {
   "cell_type": "markdown",
   "metadata": {
    "id": "bk5pEwa66UZn"
   },
   "source": [
    "Сначала брал большие модели, потом попробовал модель с куда меньшим кол-вом слоев. Она начала стабильно давать лосс в районе 8.8. Чуть большее кол-во эпох позволило уменьшить лосс до 8.77. В конце концов решил добавить батч нормалайзер. Он то и дал нужный результат. Пытался юзать adamw - он чет результат не дал. Юзал дургие активации - тангенс, елу, ликирелу, но обычный релу лучший результат дает. Юзал шедулеры. Хуже всего в моем случае работал степенной. Остановился на мультистепе"
   ]
  }
 ],
 "metadata": {
  "kernelspec": {
   "display_name": "Python 3 (ipykernel)",
   "language": "python",
   "name": "python3"
  },
  "language_info": {
   "codemirror_mode": {
    "name": "ipython",
    "version": 3
   },
   "file_extension": ".py",
   "mimetype": "text/x-python",
   "name": "python",
   "nbconvert_exporter": "python",
   "pygments_lexer": "ipython3",
   "version": "3.9.12"
  },
  "latex_envs": {
   "LaTeX_envs_menu_present": true,
   "autoclose": false,
   "autocomplete": true,
   "bibliofile": "biblio.bib",
   "cite_by": "apalike",
   "current_citInitial": 1,
   "eqLabelWithNumbers": true,
   "eqNumInitial": 1,
   "hotkeys": {
    "equation": "Ctrl-E",
    "itemize": "Ctrl-I"
   },
   "labels_anchors": false,
   "latex_user_defs": false,
   "report_style_numbering": false,
   "user_envs_cfg": false
  },
  "varInspector": {
   "cols": {
    "lenName": 16,
    "lenType": 16,
    "lenVar": 40
   },
   "kernels_config": {
    "python": {
     "delete_cmd_postfix": "",
     "delete_cmd_prefix": "del ",
     "library": "var_list.py",
     "varRefreshCmd": "print(var_dic_list())"
    },
    "r": {
     "delete_cmd_postfix": ") ",
     "delete_cmd_prefix": "rm(",
     "library": "var_list.r",
     "varRefreshCmd": "cat(var_dic_list()) "
    }
   },
   "types_to_exclude": [
    "module",
    "function",
    "builtin_function_or_method",
    "instance",
    "_Feature"
   ],
   "window_display": false
  }
 },
 "nbformat": 4,
 "nbformat_minor": 4
}
